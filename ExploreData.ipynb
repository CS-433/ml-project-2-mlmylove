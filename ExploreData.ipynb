{
 "cells": [
  {
   "cell_type": "markdown",
   "id": "0ce48c91",
   "metadata": {},
   "source": [
    "## Imports"
   ]
  },
  {
   "cell_type": "code",
   "execution_count": null,
   "id": "2185c49d",
   "metadata": {
    "scrolled": false
   },
   "outputs": [],
   "source": [
    "%run mask_to_submission # This generates dummy_submission.csv which is needed to import submission_to_mask w/o errors"
   ]
  },
  {
   "cell_type": "code",
   "execution_count": null,
   "id": "e36b7a6e",
   "metadata": {},
   "outputs": [],
   "source": [
    "from mask_to_submission import *\n",
    "from submission_to_mask import *\n",
    "\n",
    "import numpy as np\n",
    "\n",
    "import matplotlib.pyplot as plt\n",
    "import matplotlib.image as mpimg\n",
    "from matplotlib import rcParams\n",
    "%matplotlib inline\n",
    "\n",
    "from IPython.display import Image\n",
    "%load_ext autoreload\n",
    "%autoreload 2"
   ]
  },
  {
   "cell_type": "markdown",
   "id": "fbd8eeb2",
   "metadata": {},
   "source": [
    "## Exploratory data analysis"
   ]
  },
  {
   "cell_type": "markdown",
   "id": "18499b64",
   "metadata": {},
   "source": [
    "### Training images and ground truth\n",
    "#### Just a peek at what the data looks like"
   ]
  },
  {
   "cell_type": "code",
   "execution_count": null,
   "id": "1a41c5d2",
   "metadata": {
    "scrolled": false
   },
   "outputs": [],
   "source": [
    "rcParams['figure.figsize'] = 11 ,8\n",
    "\n",
    "img_train_1 = mpimg.imread('training/images/satImage_001.png')\n",
    "img_gt_1 = mpimg.imread('training/groundtruth/satImage_001.png')\n",
    "\n",
    "fig, ax = plt.subplots(1,2)\n",
    "\n",
    "ax[0].imshow(img_train_1)\n",
    "ax[0].title.set_text('Train image 1')\n",
    "ax[1].imshow(img_gt_1, cmap=\"gray\")\n",
    "ax[1].title.set_text('Groundtruth 1')"
   ]
  },
  {
   "cell_type": "markdown",
   "id": "eeb3f619",
   "metadata": {},
   "source": [
    "### Split image into patches"
   ]
  },
  {
   "cell_type": "code",
   "execution_count": null,
   "id": "fd5e75b3",
   "metadata": {},
   "outputs": [],
   "source": [
    "sub_image_1 = img_train_1[200:216, 200:216]\n",
    "sub_image_2 = img_train_1[240:256, 260:276]\n",
    "fig, ax = plt.subplots(1,2)\n",
    "\n",
    "ax[0].imshow(sub_image_1)\n",
    "ax[0].title.set_text('Train subimage 1, road')\n",
    "ax[1].imshow(sub_image_2)\n",
    "ax[1].title.set_text('Train subimage 2, not road')"
   ]
  },
  {
   "cell_type": "markdown",
   "id": "6ceeb397",
   "metadata": {},
   "source": [
    "#### Basically we cannot train on independent 16x16 images, we need to train on the whole image/a bigger patch."
   ]
  },
  {
   "cell_type": "markdown",
   "id": "7db5d3d3",
   "metadata": {},
   "source": [
    "#### As we only have 100 train images, we can split those images into patches of a smaller size. Size is restricted to a multiple of 16 (for the submission) that must divide 400 (image length and width)"
   ]
  },
  {
   "cell_type": "code",
   "execution_count": null,
   "id": "38fc7fdf",
   "metadata": {},
   "outputs": [],
   "source": [
    "def split_into_patches(img, patchsize):\n",
    "    assert patchsize % 16 == 0 and 400 % patchsize == 0, \"Invalid patchsize. Must be in {16, 80, 400}.\"\n",
    "    sub_images = []\n",
    "    width = img.shape[0]\n",
    "    height = img.shape[1]\n",
    "    for x in range(width // patchsize):\n",
    "        for y in range(height // patchsize):\n",
    "            tlc = (x*patchsize, y*patchsize) # Top left corner\n",
    "            sub_images.append(img[tlc[0]:tlc[0]+patchsize,tlc[1]:tlc[1]+patchsize])\n",
    "    return np.array(sub_images)"
   ]
  },
  {
   "cell_type": "markdown",
   "id": "7f728101",
   "metadata": {},
   "source": [
    "#### Demonstration"
   ]
  },
  {
   "cell_type": "code",
   "execution_count": null,
   "id": "6c9d1fd2",
   "metadata": {},
   "outputs": [],
   "source": [
    "patchsize = 80\n",
    "si = split_into_patches(img_train_1, patchsize)\n",
    "\n",
    "fig, ax = plt.subplots(5,5) # Works for patchsize = 80\n",
    "for i in range(5):\n",
    "    for j in range(5):\n",
    "        ax[i,j].imshow(si[5*i + j])"
   ]
  },
  {
   "cell_type": "markdown",
   "id": "03b9b54a",
   "metadata": {},
   "source": [
    "#### Same can be applied to ground truth"
   ]
  },
  {
   "cell_type": "code",
   "execution_count": null,
   "id": "ab8e2c67",
   "metadata": {},
   "outputs": [],
   "source": [
    "patchsize = 80\n",
    "si = split_into_patches(img_gt_1, patchsize)\n",
    "\n",
    "fig, ax = plt.subplots(5,5) # Works for patchsize = 80\n",
    "for i in range(5):\n",
    "    for j in range(5):\n",
    "        ax[i,j].imshow(si[5*i + j], cmap=\"gray\")"
   ]
  },
  {
   "cell_type": "code",
   "execution_count": null,
   "id": "3f9e330f",
   "metadata": {},
   "outputs": [],
   "source": []
  }
 ],
 "metadata": {
  "kernelspec": {
   "display_name": "Python 3 (ipykernel)",
   "language": "python",
   "name": "python3"
  },
  "language_info": {
   "codemirror_mode": {
    "name": "ipython",
    "version": 3
   },
   "file_extension": ".py",
   "mimetype": "text/x-python",
   "name": "python",
   "nbconvert_exporter": "python",
   "pygments_lexer": "ipython3",
   "version": "3.8.13"
  }
 },
 "nbformat": 4,
 "nbformat_minor": 5
}
