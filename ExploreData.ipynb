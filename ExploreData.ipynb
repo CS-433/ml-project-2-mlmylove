{
 "cells": [
  {
   "cell_type": "markdown",
   "id": "0ce48c91",
   "metadata": {},
   "source": [
    "## Imports"
   ]
  },
  {
   "cell_type": "code",
   "execution_count": null,
   "id": "2185c49d",
   "metadata": {
    "scrolled": false
   },
   "outputs": [],
   "source": [
    "%run mask_to_submission # This generates dummy_submission.csv which is needed to import submission_to_mask w/o errors"
   ]
  },
  {
   "cell_type": "code",
   "execution_count": null,
   "id": "e36b7a6e",
   "metadata": {},
   "outputs": [],
   "source": [
    "from mask_to_submission import *\n",
    "from submission_to_mask import *\n",
    "\n",
    "import numpy as np\n",
    "\n",
    "import matplotlib.pyplot as plt\n",
    "import matplotlib.image as mpimg\n",
    "from matplotlib import rcParams\n",
    "%matplotlib inline\n",
    "\n",
    "from IPython.display import Image\n",
    "%load_ext autoreload\n",
    "%autoreload 2"
   ]
  },
  {
   "cell_type": "markdown",
   "id": "fbd8eeb2",
   "metadata": {},
   "source": [
    "## Exploratory data analysis"
   ]
  },
  {
   "cell_type": "markdown",
   "id": "18499b64",
   "metadata": {},
   "source": [
    "### Training images and ground truth"
   ]
  },
  {
   "cell_type": "code",
   "execution_count": null,
   "id": "1a41c5d2",
   "metadata": {},
   "outputs": [],
   "source": [
    "rcParams['figure.figsize'] = 11 ,8\n",
    "\n",
    "img_A = mpimg.imread('training/images/satImage_001.png')\n",
    "img_B = mpimg.imread('training/groundtruth/satImage_001.png')\n",
    "\n",
    "fig, ax = plt.subplots(1,2)\n",
    "\n",
    "ax[0].imshow(img_A)\n",
    "ax[0].title.set_text('Train image 1')\n",
    "ax[1].imshow(img_B, cmap=\"gray\")\n",
    "ax[1].title.set_text('Groundtruth 1')"
   ]
  },
  {
   "cell_type": "code",
   "execution_count": null,
   "id": "b72d1442",
   "metadata": {},
   "outputs": [],
   "source": []
  }
 ],
 "metadata": {
  "kernelspec": {
   "display_name": "Python 3 (ipykernel)",
   "language": "python",
   "name": "python3"
  },
  "language_info": {
   "codemirror_mode": {
    "name": "ipython",
    "version": 3
   },
   "file_extension": ".py",
   "mimetype": "text/x-python",
   "name": "python",
   "nbconvert_exporter": "python",
   "pygments_lexer": "ipython3",
   "version": "3.8.13"
  }
 },
 "nbformat": 4,
 "nbformat_minor": 5
}
