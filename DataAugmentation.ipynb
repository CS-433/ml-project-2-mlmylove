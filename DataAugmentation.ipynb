{
 "cells": [
  {
   "cell_type": "markdown",
   "id": "78c04cbf-40c4-4c10-9323-e460ea95aeca",
   "metadata": {},
   "source": [
    "### Data Augmentation"
   ]
  },
  {
   "cell_type": "markdown",
   "id": "69c0446f-458d-40d4-a753-cfccb1d9e0cf",
   "metadata": {},
   "source": [
    "We need to have our folder with the base training and another folder where we will store the transormed images"
   ]
  },
  {
   "cell_type": "code",
   "execution_count": 1,
   "id": "d5ebe275-8368-4cec-902d-53b0adda4d7d",
   "metadata": {},
   "outputs": [],
   "source": [
    "import os\n",
    "import cv2\n",
    "from tqdm import tqdm\n",
    "from helpers import *\n",
    "\n",
    "import matplotlib.pyplot as plt\n",
    "import numpy as np\n",
    "import tensorflow as tf\n",
    "\n",
    "\n",
    "from tensorflow.keras import layers"
   ]
  },
  {
   "cell_type": "code",
   "execution_count": 2,
   "id": "67a584c6-2257-4376-84fe-373a531c0681",
   "metadata": {},
   "outputs": [],
   "source": [
    "BASE_TRAINING = 'base_training/'\n",
    "BASE_TRAIN_IMAGES = BASE_TRAINING + '/images/'\n",
    "BASE_TRAIN_GROUNDTRUTH = BASE_TRAINING + 'groundtruth/'\n",
    "\n",
    "TRAINING = 'training'\n",
    "TRAIN_IMAGES = TRAINING + '/images/'\n",
    "TRAIN_GROUNDTRUTH = TRAINING + '/groundtruth/'"
   ]
  },
  {
   "cell_type": "markdown",
   "id": "6a258b2b-15ea-4416-b6d2-ebf0bab14616",
   "metadata": {},
   "source": [
    "### Add 90, 180 and 270º rotations"
   ]
  },
  {
   "cell_type": "code",
   "execution_count": 3,
   "id": "28661496-3db7-4a72-89e1-75feb80874f6",
   "metadata": {},
   "outputs": [
    {
     "name": "stderr",
     "output_type": "stream",
     "text": [
      "100%|████████████████████████████████████████████████████████████████████████████████| 100/100 [00:03<00:00, 33.27it/s]\n",
      "100%|███████████████████████████████████████████████████████████████████████████████| 100/100 [00:00<00:00, 233.65it/s]\n"
     ]
    }
   ],
   "source": [
    "for path, subdirs, files in os.walk(BASE_TRAINING):\n",
    "    dirname = path.split(\"/\")[-1]\n",
    "    if dirname == 'images':   #Find all 'images' directories\n",
    "        images = os.listdir(path)  #List of all image names in this subdirectory\n",
    "        for i, image_name in tqdm(enumerate(images), total = len(images)):\n",
    "            if image_name.endswith(\".png\"):   #Only read jpg images...\n",
    "                image = cv2.imread(path+\"/\"+image_name, 1)\n",
    "                img_train_rotations = get_rotations_0_90_180_270(image)\n",
    "                for i in range(1,4):\n",
    "                    cv2.imwrite(os.path.join(TRAIN_IMAGES , image_name[:-4] + '_rotation_' + str(i) + \".png\"), img_train_rotations[i])\n",
    "\n",
    "for path, subdirs, files in os.walk(BASE_TRAINING):\n",
    "    dirname = path.split(\"/\")[-1]\n",
    "    if dirname == 'groundtruth':   #Find all 'images' directories\n",
    "        images = os.listdir(path)  #List of all image names in this subdirectory\n",
    "        for i, mask_name in tqdm(enumerate(images), total=len(images)):\n",
    "            if mask_name.endswith(\".png\"):   #Only read jpg images...\n",
    "                image = cv2.imread(path+\"/\"+mask_name, 1)\n",
    "                image = image[:, :, 0]\n",
    "                img_train_rotations = get_rotations_0_90_180_270(image)\n",
    "                for i in range(1,4):\n",
    "                    cv2.imwrite(os.path.join(TRAIN_GROUNDTRUTH , mask_name[:-4] + '_rotation_' + str(i) + \".png\"), img_train_rotations[i])                    "
   ]
  },
  {
   "cell_type": "markdown",
   "id": "a5f66a0b-769b-4a8c-b329-19b16b430130",
   "metadata": {},
   "source": [
    "### Add horizontally, vertically, and both flipped images"
   ]
  },
  {
   "cell_type": "code",
   "execution_count": 4,
   "id": "012d89cd-663d-4ef3-a1e4-72041f76426e",
   "metadata": {},
   "outputs": [
    {
     "name": "stderr",
     "output_type": "stream",
     "text": [
      "100%|████████████████████████████████████████████████████████████████████████████████| 100/100 [00:02<00:00, 33.98it/s]\n",
      "100%|███████████████████████████████████████████████████████████████████████████████| 100/100 [00:00<00:00, 224.72it/s]\n"
     ]
    }
   ],
   "source": [
    "for path, subdirs, files in os.walk(BASE_TRAINING):\n",
    "    dirname = path.split(\"/\")[-1]\n",
    "    if dirname == 'images':   #Find all 'images' directories\n",
    "        images = os.listdir(path)  #List of all image names in this subdirectory\n",
    "        for i, image_name in tqdm(enumerate(images), total = len(images)):\n",
    "            if image_name.endswith(\".png\"):   #Only read jpg images...\n",
    "                image = cv2.imread(path+\"/\"+image_name, 1)\n",
    "                img_train_flipped = get_flipped_images(image)\n",
    "                for i in range(1,4):\n",
    "                    cv2.imwrite(os.path.join(TRAIN_IMAGES , image_name[:-4] + '_flipped_' + str(i) + \".png\"), img_train_flipped[i])\n",
    "\n",
    "for path, subdirs, files in os.walk(BASE_TRAINING):\n",
    "    dirname = path.split(\"/\")[-1]\n",
    "    if dirname == 'groundtruth':   #Find all 'images' directories\n",
    "        images = os.listdir(path)  #List of all image names in this subdirectory\n",
    "        for i, mask_name in tqdm(enumerate(images), total=len(images)):\n",
    "            if mask_name.endswith(\".png\"):   #Only read jpg images...\n",
    "                image = cv2.imread(path+\"/\"+mask_name, 1)\n",
    "                image = image[:, :, 0]\n",
    "                img_train_flipped = get_flipped_images(image)\n",
    "                for i in range(1,4):\n",
    "                    cv2.imwrite(os.path.join(TRAIN_GROUNDTRUTH , mask_name[:-4] + '_flipped_' + str(i) + \".png\"), img_train_flipped[i])  "
   ]
  },
  {
   "cell_type": "markdown",
   "id": "a410d568-bf84-465f-8b07-dfd7db2489b6",
   "metadata": {},
   "source": [
    "### Add noise"
   ]
  },
  {
   "cell_type": "code",
   "execution_count": 3,
   "id": "29a8a698-2ea3-43c6-bd21-18307ee3ef56",
   "metadata": {},
   "outputs": [
    {
     "name": "stderr",
     "output_type": "stream",
     "text": [
      "100%|████████████████████████████████████████████████████████████████████████████████| 100/100 [00:04<00:00, 22.79it/s]\n",
      "100%|███████████████████████████████████████████████████████████████████████████████| 100/100 [00:00<00:00, 692.94it/s]\n"
     ]
    }
   ],
   "source": [
    "for path, subdirs, files in os.walk(BASE_TRAINING):\n",
    "    dirname = path.split(\"/\")[-1]\n",
    "    if dirname == 'images':   #Find all 'images' directories\n",
    "        images = os.listdir(path)  #List of all image names in this subdirectory\n",
    "        for i, image_name in tqdm(enumerate(images), total = len(images)):\n",
    "            if image_name.endswith(\".png\"):   #Only read jpg images...\n",
    "                image = cv2.imread(path+\"/\"+image_name, 1)\n",
    "                image = noisy(\"s&p\",image)\n",
    "                cv2.imwrite(os.path.join(TRAIN_IMAGES , image_name[:-4] + '_noise_' + \".png\"), image)\n",
    "\n",
    "for path, subdirs, files in os.walk(BASE_TRAINING):\n",
    "    dirname = path.split(\"/\")[-1]\n",
    "    if dirname == 'groundtruth':   #Find all 'images' directories\n",
    "        images = os.listdir(path)  #List of all image names in this subdirectory\n",
    "        for i, mask_name in tqdm(enumerate(images), total=len(images)):\n",
    "            if mask_name.endswith(\".png\"):   #Only read jpg images...\n",
    "                image = cv2.imread(path+\"/\"+mask_name, 1)\n",
    "                image = image[:, :, 0]\n",
    "                cv2.imwrite(os.path.join(TRAIN_GROUNDTRUTH , mask_name[:-4] + '_noise_' + \".png\"), image)"
   ]
  },
  {
   "cell_type": "markdown",
   "id": "8c9fd220-e3e8-40cd-9443-28ef836ddfcc",
   "metadata": {},
   "source": [
    "### Add original images"
   ]
  },
  {
   "cell_type": "code",
   "execution_count": 5,
   "id": "3792dc0e-e32d-4bc9-8cc2-e57d2965876d",
   "metadata": {},
   "outputs": [
    {
     "name": "stderr",
     "output_type": "stream",
     "text": [
      "100%|████████████████████████████████████████████████████████████████████████████████| 100/100 [00:01<00:00, 84.60it/s]\n",
      "100%|███████████████████████████████████████████████████████████████████████████████| 100/100 [00:00<00:00, 588.23it/s]\n"
     ]
    }
   ],
   "source": [
    "for path, subdirs, files in os.walk(BASE_TRAINING):\n",
    "    dirname = path.split(\"/\")[-1]\n",
    "    if dirname == 'images':   #Find all 'images' directories\n",
    "        images = os.listdir(path)  #List of all image names in this subdirectory\n",
    "        for i, image_name in tqdm(enumerate(images), total = len(images)):\n",
    "            if image_name.endswith(\".png\"):   #Only read jpg images...\n",
    "                image = cv2.imread(path+\"/\"+image_name, 1)\n",
    "                cv2.imwrite(os.path.join(TRAIN_IMAGES , image_name), image)\n",
    "\n",
    "for path, subdirs, files in os.walk(BASE_TRAINING):\n",
    "    dirname = path.split(\"/\")[-1]\n",
    "    if dirname == 'groundtruth':   #Find all 'images' directories\n",
    "        images = os.listdir(path)  #List of all image names in this subdirectory\n",
    "        for i, mask_name in tqdm(enumerate(images), total=len(images)):\n",
    "            if mask_name.endswith(\".png\"):   #Only read jpg images...\n",
    "                image = cv2.imread(path+\"/\"+mask_name, 1)\n",
    "                image = image[:, :, 0]\n",
    "                cv2.imwrite(os.path.join(TRAIN_GROUNDTRUTH , mask_name), image)"
   ]
  },
  {
   "cell_type": "code",
   "execution_count": null,
   "id": "6e69a02e-ce61-4d9f-acf0-4cec28bab313",
   "metadata": {},
   "outputs": [],
   "source": []
  }
 ],
 "metadata": {
  "kernelspec": {
   "display_name": "Python 3 (ipykernel)",
   "language": "python",
   "name": "python3"
  },
  "language_info": {
   "codemirror_mode": {
    "name": "ipython",
    "version": 3
   },
   "file_extension": ".py",
   "mimetype": "text/x-python",
   "name": "python",
   "nbconvert_exporter": "python",
   "pygments_lexer": "ipython3",
   "version": "3.10.0"
  }
 },
 "nbformat": 4,
 "nbformat_minor": 5
}
